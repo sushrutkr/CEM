{
 "metadata": {
  "language_info": {
   "codemirror_mode": {
    "name": "ipython",
    "version": 3
   },
   "file_extension": ".py",
   "mimetype": "text/x-python",
   "name": "python",
   "nbconvert_exporter": "python",
   "pygments_lexer": "ipython3",
   "version": "3.7.6-final"
  },
  "orig_nbformat": 2,
  "kernelspec": {
   "name": "python37664bitbasea5112685e01b47f989ac5d3582caf0ac",
   "display_name": "Python 3.7.6 64-bit ('base')"
  }
 },
 "nbformat": 4,
 "nbformat_minor": 2,
 "cells": [
  {
   "cell_type": "code",
   "execution_count": 1,
   "metadata": {
    "tags": []
   },
   "outputs": [
    {
     "output_type": "stream",
     "name": "stdout",
     "text": "Volume : 0.373\n"
    }
   ],
   "source": [
    "import math\n",
    "Diameter = 0.5\n",
    "height = 1.9\n",
    "Volume = math.pi * ((Diameter/2)**2) * height\n",
    "print('Volume : {:.3f}'.format(Volume))"
   ]
  },
  {
   "cell_type": "code",
   "execution_count": 3,
   "metadata": {
    "tags": []
   },
   "outputs": [
    {
     "output_type": "stream",
     "name": "stdout",
     "text": "6\n"
    }
   ],
   "source": [
    "from prod import prod\n",
    "obj = prod(2,3)\n",
    "print(obj.product())"
   ]
  },
  {
   "cell_type": "code",
   "execution_count": 4,
   "metadata": {
    "tags": []
   },
   "outputs": [
    {
     "output_type": "stream",
     "name": "stdout",
     "text": "First Name:  Hrithik\nLast Name:  Roshan\n"
    }
   ],
   "source": [
    "My_name = 'Hrithik Roshan'\n",
    "name_list = My_name.split(' ')\n",
    "print('First Name: ', name_list[0])\n",
    "print('Last Name: ', name_list[-1])"
   ]
  },
  {
   "cell_type": "code",
   "execution_count": null,
   "metadata": {},
   "outputs": [],
   "source": [
    "from collections import defaultdict\n",
    "gluc_human = \"MKSIYFVAGLFVMLVQGSWQRSLQDTEEKSRSFSASQADPLSDPDQMNEDKRHSQGTFTSDYSKYLDSRRAQDFVQWLMNTKRNRNNIAKRHDEFERHAEGTFTSDVSSYLEG\"\n",
    "dict = defaultdict(lambda : 0)\n",
    "for i in gluc_human:\n",
    "    if i not in  \"DXJOUZ\":\n",
    "        dict[i]+=1\n",
    "print(dict)"
   ]
  },
  {
   "cell_type": "code",
   "execution_count": 5,
   "metadata": {},
   "outputs": [],
   "source": [
    "Dna_string = 'ATGGCCCTGTGGATGCGCCTCCTGCCCCTGCTGGCGCTGCTGGCCCTCTGGGGACCTGACCCAGCCGCAGCCTTTGTGAACCAACACCTXCGGCTCACACCTGGTGGAAGCTCTCTACCTAGTGTGCGGGGAACGAGGCTTCTTCTACACACCCAAGACCCGCCGGGAGGCAGAGGACCTGCAGGTGGGGCAGGTGGAGCTGGGCGGGGGCCCTGGTGCAGGCAGCCTGCAGCCCTTGGCCCTGGAGGGGTCCCTGCAGAAGCGTGGCATTGTGGAACAATGCTGTACCAGCATCTGCTCCCTCTACCAGCTGGAGAACTACTGCAACTAG'\n",
    "codon_list = [Dna_string[i:i+3] for i in range(len(Dna_string)) if i%3 ==0]"
   ]
  },
  {
   "cell_type": "code",
   "execution_count": 6,
   "metadata": {
    "tags": []
   },
   "outputs": [
    {
     "output_type": "stream",
     "name": "stdout",
     "text": "start codon:  ATG\nend codon:  TAG\n"
    }
   ],
   "source": [
    "print('start codon: ', Dna_string[:3])\n",
    "print('end codon: ', Dna_string[-3:])"
   ]
  },
  {
   "cell_type": "code",
   "execution_count": 7,
   "metadata": {
    "tags": []
   },
   "outputs": [
    {
     "output_type": "stream",
     "name": "stdout",
     "text": "codons:  ATG GCC CTG TGG ATG CGC CTC CTG CCC CTG CTG GCG CTG CTG GCC CTC TGG GGA CCT GAC CCA GCC GCA GCC TTT GTG AAC CAA CAC CTX CGG CTC ACA CCT GGT GGA AGC TCT CTA CCT AGT GTG CGG GGA ACG AGG CTT CTT CTA CAC ACC CAA GAC CCG CCG GGA GGC AGA GGA CCT GCA GGT GGG GCA GGT GGA GCT GGG CGG GGG CCC TGG TGC AGG CAG CCT GCA GCC CTT GGC CCT GGA GGG GTC CCT GCA GAA GCG TGG CAT TGT GGA ACA ATG CTG TAC CAG CAT CTG CTC CCT CTA CCA GCT GGA GAA CTA CTG CAA CTA G\n"
    }
   ],
   "source": [
    "print('codons: ', ' '.join(codon_list))"
   ]
  },
  {
   "cell_type": "code",
   "execution_count": null,
   "metadata": {},
   "outputs": [],
   "source": []
  }
 ]
}
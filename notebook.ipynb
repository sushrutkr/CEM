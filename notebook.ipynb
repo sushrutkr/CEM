{
 "metadata": {
  "language_info": {
   "codemirror_mode": {
    "name": "ipython",
    "version": 3
   },
   "file_extension": ".py",
   "mimetype": "text/x-python",
   "name": "python",
   "nbconvert_exporter": "python",
   "pygments_lexer": "ipython3",
   "version": "3.7.6-final"
  },
  "orig_nbformat": 2,
  "kernelspec": {
   "name": "python37664bitbasea5112685e01b47f989ac5d3582caf0ac",
   "display_name": "Python 3.7.6 64-bit ('base')"
  }
 },
 "nbformat": 4,
 "nbformat_minor": 2,
 "cells": [
  {
   "cell_type": "code",
   "execution_count": 1,
   "metadata": {
    "tags": []
   },
   "outputs": [
    {
     "output_type": "stream",
     "name": "stdout",
     "text": "Volume : 0.373\n"
    }
   ],
   "source": [
    "import math\n",
    "Diameter = 0.5\n",
    "height = 1.9\n",
    "Volume = math.pi * ((Diameter/2)**2) * height\n",
    "print('Volume : {:.3f}'.format(Volume))"
   ]
  },
  {
   "cell_type": "code",
   "execution_count": 3,
   "metadata": {
    "tags": []
   },
   "outputs": [
    {
     "output_type": "stream",
     "name": "stdout",
     "text": "6\n"
    }
   ],
   "source": [
    "from prod import prod\n",
    "obj = prod(2,3)\n",
    "print(obj.product())"
   ]
  },
  {
   "cell_type": "code",
   "execution_count": 4,
   "metadata": {
    "tags": []
   },
   "outputs": [
    {
     "output_type": "stream",
     "name": "stdout",
     "text": "First Name:  Hrithik\nLast Name:  Roshan\n"
    }
   ],
   "source": [
    "My_name = 'Hrithik Roshan'\n",
    "name_list = My_name.split(' ')\n",
    "print('First Name: ', name_list[0])\n",
    "print('Last Name: ', name_list[-1])"
   ]
  },
  {
   "cell_type": "code",
   "execution_count": null,
   "metadata": {},
   "outputs": [],
   "source": [
    "from collections import defaultdict\n",
    "gluc_human = \"MKSIYFVAGLFVMLVQGSWQRSLQDTEEKSRSFSASQADPLSDPDQMNEDKRHSQGTFTSDYSKYLDSRRAQDFVQWLMNTKRNRNNIAKRHDEFERHAEGTFTSDVSSYLEG\"\n",
    "dict = defaultdict(lambda : 0)\n",
    "for i in gluc_human:\n",
    "    if i not in  \"DXJOUZ\":\n",
    "        dict[i]+=1\n",
    "print(dict)"
   ]
  }
 ]
}